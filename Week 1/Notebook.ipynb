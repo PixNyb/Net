{
 "cells": [
  {
   "cell_type": "markdown",
   "metadata": {},
   "source": [
    "# Netwerken week 1"
   ]
  },
  {
   "cell_type": "markdown",
   "metadata": {},
   "source": [
    "## Zo <s>oud</s> jong"
   ]
  },
  {
   "cell_type": "code",
   "execution_count": 1,
   "metadata": {},
   "outputs": [
    {
     "name": "stdout",
     "output_type": "stream",
     "text": [
      "Your age in binary is: 0b10011\n",
      "Your age in hexadecimal is: 0x13\n"
     ]
    }
   ],
   "source": [
    "age = int(input('What\\'s your age?'))\n",
    "# age = 19\n",
    "\n",
    "print(f'Your age in binary is: {bin(age)}')\n",
    "# bin(19)\n",
    "# 16 * 1\n",
    "# 8  * 0\n",
    "# 4  * 0\n",
    "# 2  * 1\n",
    "# 1  * 1\n",
    "\n",
    "print(f'Your age in hexadecimal is: {hex(age)}')\n",
    "# hex(19)\n",
    "# f(15) + 4 = 13"
   ]
  },
  {
   "cell_type": "markdown",
   "metadata": {},
   "source": [
    "## Nybble en byte\n",
    "\n",
    "| Hexadecimal | Nybble |\n",
    "|---|---|\n",
    "| 9 | 1001 |\n",
    "| A | 1010 |\n",
    "| F | 1111 |\n",
    "| A0 | 1010 0000 |\n",
    "| 82 | 1000 0010 |\n",
    "| FF | 1111 1111 |\n",
    "| C0 A8 | 1100 0000 1010 1000 |\n",
    "| 13 37 | 0001 0011 0011 0111 |\n",
    "| AB AD EA FE | 1010 1011 1010 1101 1100 1010 1111 1110 |\n",
    "\n",
    "## Tellen met een twist\n",
    "1. Probeer zo snel mogelijk tot drietok te tellen\n",
    "    - Geen antwoord mogelijk\n",
    "2. Hoeveel is twee keer okt?\n",
    "    - 16\n",
    "3. Hoeveel is zeven keer okt?\n",
    "    - 56\n",
    "4. Hoeveel is twee keer vier?\n",
    "    - 8\n",
    "5. Hoeveel is drie keer vier?\n",
    "    - 12\n",
    "6. Hoeveel is tweetok min okteen?\n",
    "    - 9\n",
    "\n",
    "## Wat programmeren"
   ]
  },
  {
   "cell_type": "code",
   "execution_count": 2,
   "metadata": {},
   "outputs": [
    {
     "name": "stdout",
     "output_type": "stream",
     "text": [
      "Ingebouwde conversie: 255 = 0b11111111\n",
      "Eigen conversie: 255 = 11111111_2\n"
     ]
    }
   ],
   "source": [
    "num = int(input('Geef een getal in: '))\n",
    "\n",
    "def crappy_bin(decimal):\n",
    "    digits = []\n",
    "    quotient = decimal\n",
    "\n",
    "    while (quotient > 0):\n",
    "        digits.append(str(quotient % 2))\n",
    "        quotient = int(quotient / 2)\n",
    "\n",
    "    digits.reverse()\n",
    "    return ''.join(digits)\n",
    "\n",
    "print(f'Ingebouwde conversie: {num} = {bin(num)}')\n",
    "print(f'Eigen conversie: {num} = {crappy_bin(num)}_2')"
   ]
  },
  {
   "cell_type": "markdown",
   "metadata": {},
   "source": [
    "### Van binair naar decimaal"
   ]
  },
  {
   "cell_type": "code",
   "execution_count": 3,
   "metadata": {},
   "outputs": [
    {
     "name": "stdout",
     "output_type": "stream",
     "text": [
      "11111111 = 255_10\n"
     ]
    }
   ],
   "source": [
    "binary = input('Geef een binair getal in')\n",
    "\n",
    "def dec(binary):\n",
    "    # Expected format: [0-1]+\n",
    "    num = 0\n",
    "    multiplier = 1\n",
    "    for char in reversed(binary):\n",
    "        num += int(char) * multiplier\n",
    "        multiplier *= 2\n",
    "\n",
    "    return num\n",
    "\n",
    "print(f'{binary} = {dec(binary)}_10')"
   ]
  },
  {
   "cell_type": "markdown",
   "metadata": {},
   "source": [
    "### Andere talstelsels"
   ]
  },
  {
   "cell_type": "code",
   "execution_count": 6,
   "metadata": {},
   "outputs": [
    {
     "name": "stdout",
     "output_type": "stream",
     "text": [
      "255 = FF_16\n"
     ]
    }
   ],
   "source": [
    "hexMap = {\n",
    "    0: '0',\n",
    "    1: '1',\n",
    "    2: '2',\n",
    "    3: '3',\n",
    "    4: '4',\n",
    "    5: '5',\n",
    "    6: '6',\n",
    "    7: '7',\n",
    "    8: '8',\n",
    "    9: '9',\n",
    "    10: 'A',\n",
    "    11: 'B',\n",
    "    12: 'C',\n",
    "    13: 'D',\n",
    "    14: 'E',\n",
    "    15: 'F'\n",
    "}\n",
    "\n",
    "num = int(input('Geef een getal in:'))\n",
    "\n",
    "def crappy_hex(decimal):\n",
    "    digits = []\n",
    "    quotient = decimal\n",
    "\n",
    "    while (quotient > 0):\n",
    "        digits.append(hexMap[int(quotient % 16)])\n",
    "        quotient = int(quotient / 16)\n",
    "\n",
    "    digits.reverse()\n",
    "    return ''.join(digits)\n",
    "\n",
    "print(f'{num} = {crappy_hex(num)}_16')"
   ]
  },
  {
   "cell_type": "code",
   "execution_count": 5,
   "metadata": {},
   "outputs": [
    {
     "name": "stdout",
     "output_type": "stream",
     "text": [
      "255 = 377_8\n"
     ]
    }
   ],
   "source": [
    "num = int(input('Geef een getal in:'))\n",
    "\n",
    "def crappy_octal(decimal):\n",
    "    digits = []\n",
    "    quotient = decimal\n",
    "\n",
    "    while (quotient > 0):\n",
    "        digits.append(hexMap[int(quotient % 8)])\n",
    "        quotient = int(quotient / 8)\n",
    "\n",
    "    digits.reverse()\n",
    "    return ''.join(digits)\n",
    "\n",
    "print(f'{num} = {crappy_octal(num)}_8')"
   ]
  },
  {
   "cell_type": "code",
   "execution_count": 7,
   "metadata": {},
   "outputs": [
    {
     "name": "stdout",
     "output_type": "stream",
     "text": [
      "10 = 101_3\n"
     ]
    }
   ],
   "source": [
    "num = int(input('Geef een getal in:'))\n",
    "\n",
    "def crappy_ternary(decimal):\n",
    "    digits = []\n",
    "    quotient = decimal\n",
    "\n",
    "    while (quotient > 0):\n",
    "        digits.append(str(quotient % 3))\n",
    "        quotient = int(quotient / 3)\n",
    "\n",
    "    digits.reverse()\n",
    "    return ''.join(digits)\n",
    "\n",
    "print(f'{num} = {crappy_ternary(num)}_3')"
   ]
  },
  {
   "cell_type": "code",
   "execution_count": null,
   "metadata": {},
   "outputs": [],
   "source": [
    "num = int(input('Geef een getal in:'))\n",
    "base = int(input('Geef een base in:'))\n",
    "\n",
    "# Bonus: Generic base converter\n",
    "# Geen base 1 proberen, base 1 bestaat niet\n",
    "def crappy_base(decimal, base):\n",
    "    digits = []\n",
    "    quotient = decimal\n",
    "\n",
    "    while (quotient > 0):\n",
    "        digits.append(str(quotient % base))\n",
    "        quotient = int(quotient / base)\n",
    "\n",
    "    digits.reverse()\n",
    "    return ''.join(digits)\n",
    "\n",
    "print(f'{num} = {crappy_base(num, base)}_{base}')"
   ]
  },
  {
   "cell_type": "markdown",
   "metadata": {},
   "source": [
    "## Omrekenen\n",
    "### Van bits naar bytes\n",
    "\n",
    "| Bits | Bytes |\n",
    "|---|---|\n",
    "| 8 | 1 |\n",
    "| 16 | 2 |\n",
    "| 32 | 4 |\n",
    "| 64 | 8 |\n",
    "| 1000 | 125 |\n",
    "| 1024 | 128 |\n",
    "| 2000 | 250 | \n",
    "| 2058 | 256 |\n",
    "\n",
    "### Van bytes naar bits\n",
    "\n",
    "| Bytes | Bits |\n",
    "|---|---|\n",
    "| 1 | 8 |\n",
    "| 2 | 16 |\n",
    "| 4 | 32 |\n",
    "| 10 | 80 |\n",
    "| 8192 | 65536 |\n",
    "\n",
    "### Van veel bits naar beel bytes\n",
    "\n",
    "| Bytes | Bits |\n",
    "|---|---|\n",
    "| 1kb | 8000 of 8Kbit |\n",
    "| 8kb | 64000 of 64Kbit |\n",
    "| 10Mb | 80000000 of 80Mbit |\n",
    "| 1000Gb | 8000000000000 of 8Tbit |"
   ]
  },
  {
   "cell_type": "markdown",
   "metadata": {},
   "source": [
    "## Maybe a Mebibyte?\n",
    "### Vragen\n",
    "1. Kun je dit verschil verklaren?\n",
    "    1. Het verschil komt door een verkeerd gebruik van een van de SI-voorvoegsels.\n",
    "    2. Het verschil komt door het besturingssysteem dat een aantal sectoren ontoegankelijk maakt omdat het besturingssysteem deze zelf moet gebruiken.\n",
    "2. Ervan uitgaande dat bij vraag 1 het eerste antwoord juist is hanteert de fabrikant de SI-voorvoegsels juist.\n",
    "3. Ervan uitgaande dat bij vraag 1 het eerste antwoord juist is zou het besturingssysteem zijn definitie van een Terabyte aan moeten passen, wat het besturingssysteem gebruikt is namelijk een Tebibyte (2^40 bytes) en niet een Terabyte (10^12 bytes).\n",
    "\n",
    "### Hoe lang downloaden?\n",
    "Marie moet ( 650MiB * 1.049 )mb / 100mb = 6.8185s wachten tot het volledige bestand binnen is.\n",
    "\n",
    "### Codering\n",
    "#### Unicode\n",
    "Al deze code points staan op het internationaal toetsenbord\n",
    "\n",
    "#### Zelf UTF-8 decoderen\n",
    "\"This is to the crazy ones\"\n",
    "\n",
    "#### Hogere code points\n",
    "1. Hoeveel bytes groot is dit bestand?\n",
    "    - 12 bytes\n",
    "2. Uit hoeveel tekens bestaat de tekst?\n",
    "    - De text bestaat uit 8 tekens, de rest van de tekens zijn modifiers om characters te veranderen (accent of emoji)"
   ]
  }
 ],
 "metadata": {
  "interpreter": {
   "hash": "916dbcbb3f70747c44a77c7bcd40155683ae19c65e1c03b4aa3499c5328201f1"
  },
  "kernelspec": {
   "display_name": "Python 3.8.10 64-bit",
   "language": "python",
   "name": "python3"
  },
  "language_info": {
   "codemirror_mode": {
    "name": "ipython",
    "version": 3
   },
   "file_extension": ".py",
   "mimetype": "text/x-python",
   "name": "python",
   "nbconvert_exporter": "python",
   "pygments_lexer": "ipython3",
   "version": "3.8.10"
  },
  "orig_nbformat": 4
 },
 "nbformat": 4,
 "nbformat_minor": 2
}
